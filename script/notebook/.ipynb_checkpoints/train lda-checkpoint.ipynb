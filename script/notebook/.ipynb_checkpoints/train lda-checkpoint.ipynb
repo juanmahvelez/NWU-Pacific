{
 "cells": [
  {
   "cell_type": "code",
   "execution_count": 2,
   "metadata": {},
   "outputs": [],
   "source": [
    "import pandas as pd\n",
    "%load_ext autoreload\n",
    "%autoreload 2\n",
    "\n",
    "import sys\n",
    "\n",
    "workingdirectory = \"C:\\\\Users\\\\Jeff Jarrard\\\\Documents\\\\GitHub\\\\NWU-Pacific\\\\NWU-Pacific\" #Windows format\n",
    "cfpbpath = \"D:\\\\Data\\\\CFPB\\\\Consumer_Complaints.csv\"\n",
    "datapath = \"D:\\\\Data\\\\NWU-Pacific\\\\\"\n",
    "ldaconfigfile = \"C:\\\\Users\\\\Jeff Jarrard\\\\Documents\\\\GitHub\\\\NWU-Pacific\\\\NWU-Pacific\\\\processing\\\\configurations\\\\lda.json\"\n",
    " #'/Users/juanhernandez/Development/NWU-Pacific/NWU-Pacific/processing/configurations/lda.json'\n",
    "topicshdf = \"D:\\\\Data\\\\NWU-Pacific\\\\topics.hdf\"\n",
    "#'/Users/juanhernandez/Development/NWU-Pacific/NWU-Pacific/' #Mac format\n",
    "#print(sys.path) if you need to check to make sure all dependencies are loaded.\n"
   ]
  },
  {
   "cell_type": "code",
   "execution_count": null,
   "metadata": {},
   "outputs": [],
   "source": [
    "#insert working directory with python files\n",
    "sys.path.insert(0,workingdirectory)"
   ]
  },
  {
   "cell_type": "code",
   "execution_count": null,
   "metadata": {},
   "outputs": [],
   "source": [
    "#Import modules from NWU-Pacific that pre-process the text\n",
    "\n",
    "from processing import semantic_models, tokenize"
   ]
  },
  {
   "cell_type": "markdown",
   "metadata": {},
   "source": [
    "# Import Complaint Narratives\n",
    "Reading from CSV, this data could be located in the cloud or read directly from the CFPB.  We import the complaint database and remove the null records."
    "## open dataframe, get text"
   ]
  },
  {
   "cell_type": "code",
   "execution_count": null,
   "metadata": {},
   "outputs": [],
   "source": [
    "df = pd.read_csv(cfpbpath)"
   "execution_count": 4,
   "metadata": {},
   "outputs": [],
   "source": [
    "df = pd.read_csv('/Users/juanhernandez/Downloads/consumer_complaints.csv')"
   ]
  },
  {
   "cell_type": "code",
   "execution_count": null,
   "metadata": {},
   "outputs": [],
   "source": [
    "document = df['Consumer complaint narrative'][1]"
   ]
  },
  {
   "cell_type": "code",
   "execution_count": null,
   "metadata": {},
   "outputs": [],
   "source": [
    "df = df[df['Consumer complaint narrative'].isnull()==False]"
   ]
  },
  {
   "cell_type": "markdown",
   "metadata": {},
   "source": [
    "# Tokenize the Narratives\n",
    "The tokenize function removes punctuation and stop words using GenSim's built-in stopword dictionary, then stems all the words to reduce the number of variants of verb conjugation, plurals, by matching each word with its English stemword."
   ]
  },
  {
   "cell_type": "code",
   "execution_count": null,
   "metadata": {},
   "outputs": [],
   "source": [
    "df['tokens'] = df['Consumer complaint narrative'].apply(tokenize.tokenize)"
   ]
  },
  {
   "cell_type": "code",
   "execution_count": null,
   "metadata": {},
   "outputs": [],
   "source": [
    "\n",
    "df[['Complaint ID', 'tokens']].to_hdf(datapath + \"texts.hdf\", 'texts')\n",
    "\n"
   ]
  },
  {
   "cell_type": "code",
   "execution_count": null,
   "metadata": {},
   "outputs": [],
   "source": [
    "texts = list(df['tokens'].values)\n"
   ]
  },
  {
   "cell_type": "markdown",
   "metadata": {},
   "source": [
    "# Generate Corpus and Dictionary"
   ]
  },
  {
   "cell_type": "markdown",
   "metadata": {},
   "source": [
    "The file semantic_model.py contains two functions called make_dictionary and make_corpus.  These two functions take the tokenized complaint narratives and generate a dictionary and corpus using that dictionary. \n",
    "TODO:  Write up what these two things do.\n"
   ]
  },
  {
   "cell_type": "code",
   "execution_count": null,
   "metadata": {},
   "outputs": [],
   "source": [
    "dictionary = semantic_models.make_dictionary(texts, datapath)\n",
    "corpus = semantic_models.make_corpus(texts, dictionary, datapath)"
   ]
  },
  {
   "cell_type": "markdown",
   "metadata": {},
   "source": [
    "# Train the LDA Model"
   ]
  },
  {
   "cell_type": "code",
   "execution_count": null,
   "metadata": {},
   "outputs": [],
   "source": [
    "#param_file contains the settings for the LDA trainer.  This can be configured in various ways via editing the lda.json file\n",
    "\n",
    "param_file = ldaconfigfile"
   ]
  },
  {
   "cell_type": "code",
   "execution_count": null,
   "metadata": {},
   "outputs": [],
   "source": [
    "import json\n",
    "with open(param_file, 'r') as config:\n",
    "    parameters = json.load(config)"
   ]
  },
  {
   "cell_type": "code",
   "execution_count": null,
   "metadata": {},
   "outputs": [],
   "source": [
    "parameters['model_name'] = '_'.join([parameters['model_type'],\n",
    "                                         '20',\n",
    "                                         'topics'])"
   ]
  },
  {
   "cell_type": "code",
   "execution_count": null,
   "metadata": {},
   "outputs": [],
   "source": [
    "corpus_training, corpus_evaluation = semantic_models.split(corpus, parameters['training_frac'])"
   ]
  },
  {
   "cell_type": "code",
   "execution_count": null,
   "metadata": {},
   "outputs": [],
   "source": [
    "k = 20\n",
    "if parameters['model_args']['alpha'] == 'k/50':\n",
    "    parameters['model_args']['alpha'] = float(k)/50"
   ]
  },
  {
   "cell_type": "code",
   "execution_count": null,
   "metadata": {},
   "outputs": [],
   "source": [
    "model = semantic_models.train(parameters=parameters,\n",
    "                  corpus_training=corpus_training,\n",
    "                  dictionary=dictionary,\n",
    "                  k=k)"
   ]
  },
  {
   "cell_type": "code",
   "execution_count": null,
   "metadata": {},
   "outputs": [],
   "source": [
    "evaluation = semantic_models.evaluate(parameters=parameters,\n",
    "                          corpus_evaluation=corpus_evaluation,\n",
    "                          model=model)"
   ]
  },
  {
   "cell_type": "code",
   "execution_count": null,
   "metadata": {},
   "outputs": [],
   "source": [
    "evaluation"
   ]
  },
  {
   "cell_type": "markdown",
   "metadata": {},
   "source": [
    "## exract topics"
   ]
  },
  {
   "cell_type": "code",
   "execution_count": null,
   "metadata": {},
   "outputs": [],
   "source": [
    "# Extract topics\n",
    "\n",
    "from gensim.corpora import Dictionary\n",
    "def get_topics(dictionary, text):\n",
    "    bow = Dictionary.doc2bow(dictionary,text)\n",
    "    topics = list(model.inference([bow])[0][0])\n",
    "    return topics"
   ]
  },
  {
   "cell_type": "code",
   "execution_count": null,
   "metadata": {},
   "outputs": [],
   "source": [
    "df['topics'] = df['tokens'].apply(lambda x: get_topics(dictionary, x))"
   ]
  },
  {
   "cell_type": "code",
   "execution_count": null,
   "metadata": {},
   "outputs": [],
   "source": [
    "ldaoutput = df[['Complaint ID', 'tokens', 'topics']]\n",
    "ldaoutput.to_hdf(topicshdf, 'topics')"
   ]
  },
  {
   "cell_type": "code",
   "execution_count": null,
   "metadata": {},
   "outputs": [],
   "source": []
  }
 ],
 "metadata": {
  "kernelspec": {
   "display_name": "Python 3",
   "language": "python",
   "name": "python3"
  },
  "language_info": {
   "codemirror_mode": {
    "name": "ipython",
    "version": 3
   },
   "file_extension": ".py",
   "mimetype": "text/x-python",
   "name": "python",
   "nbconvert_exporter": "python",
   "pygments_lexer": "ipython3",
   "version": "3.6.5"
  }
 },
 "nbformat": 4,
 "nbformat_minor": 2
}
